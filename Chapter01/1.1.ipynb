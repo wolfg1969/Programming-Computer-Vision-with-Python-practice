{
 "cells": [
  {
   "cell_type": "code",
   "execution_count": 1,
   "metadata": {},
   "outputs": [],
   "source": [
    "from PIL import Image\n",
    "\n",
    "pil_im = Image.open('../images/empire.jpg')\n",
    "\n",
    "pil_im.show()\n",
    "\n",
    "pil_im_gray = pil_im.copy().convert('L')\n",
    "\n",
    "pil_im_gray.show()\n",
    "\n",
    "pil_im_copy = pil_im.copy()\n",
    "box = (100, 100, 400, 400)\n",
    "region = pil_im_copy.crop(box)\n",
    "\n",
    "region = region.transpose(Image.ROTATE_180)\n",
    "pil_im_copy.paste(region, box)\n",
    "\n",
    "pil_im_copy.show()\n",
    "\n",
    "out = pil_im.resize((128, 128))\n",
    "out.show()\n",
    "\n",
    "out = pil_im.rotate(45)\n",
    "out.show()\n",
    "\n",
    "pil_im.thumbnail((128, 128))\n",
    "pil_im.show()"
   ]
  },
  {
   "cell_type": "markdown",
   "metadata": {},
   "source": []
  }
 ],
 "metadata": {
  "kernelspec": {
   "display_name": "Python 2",
   "language": "python",
   "name": "python2"
  },
  "language_info": {
   "codemirror_mode": {
    "name": "ipython",
    "version": 2
   },
   "file_extension": ".py",
   "mimetype": "text/x-python",
   "name": "python",
   "nbconvert_exporter": "python",
   "pygments_lexer": "ipython2",
   "version": "2.7.14"
  }
 },
 "nbformat": 4,
 "nbformat_minor": 2
}
